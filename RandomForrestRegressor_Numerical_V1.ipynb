{
 "cells": [
  {
   "cell_type": "code",
   "execution_count": 1,
   "metadata": {},
   "outputs": [
    {
     "name": "stdout",
     "output_type": "stream",
     "text": [
      "d:\\OneDrive\\ML\\Model\n"
     ]
    }
   ],
   "source": [
    "## Imports\n",
    "import numpy as np\n",
    "import pandas as pd\n",
    "import os\n",
    "import seaborn as sns\n",
    "import matplotlib.pyplot as plt\n",
    "\n",
    "from sklearn.impute import SimpleImputer, KNNImputer\n",
    "from sklearn.model_selection import GridSearchCV\n",
    "from sklearn.ensemble import RandomForestRegressor\n",
    "from sklearn.model_selection import train_test_split\n",
    "from sklearn.metrics import mean_squared_error\n",
    "from scipy.stats import pearsonr\n",
    "\n",
    "from math import sqrt\n",
    "\n",
    "current_directory = os.getcwd()\n",
    "print(current_directory)"
   ]
  },
  {
   "cell_type": "code",
   "execution_count": 2,
   "metadata": {},
   "outputs": [],
   "source": [
    "data = pd.read_excel(\"CSVs/ML_Inputs/ML_Training_Numerical_MaxMoment.xlsx\",header=None)\n",
    "data = data.drop(data.columns[0], axis=1)\n",
    "\n",
    "data.columns = data.iloc[0]\n",
    "data=data.drop(0)\n"
   ]
  },
  {
   "cell_type": "code",
   "execution_count": 3,
   "metadata": {},
   "outputs": [
    {
     "name": "stdout",
     "output_type": "stream",
     "text": [
      "Model RMSE: 2.1727055361703536\n"
     ]
    }
   ],
   "source": [
    "## Predicting VAriable\n",
    "drop_columns=['inj_rate_max','inj_depth_max','inj_depth_min','moment_max','rock_biot_min']\n",
    "pred_variable = 'moment_max'\n",
    "\n",
    "X = data.drop(columns=drop_columns)\n",
    "y = data[pred_variable]\n",
    "\n",
    "X_train = X[y.notnull()]\n",
    "y_train = y[y.notnull()]\n",
    "\n",
    "X_pred = X[y.isnull()]\n",
    "\n",
    "X_train_split, X_test_split, y_train_split, y_test_split = train_test_split(X_train, y_train, test_size=0.2, random_state=42)\n",
    "\n",
    "model = RandomForestRegressor(n_estimators=100, random_state=42)\n",
    "\n",
    "model.fit(X_train_split, y_train_split)\n",
    "\n",
    "y_pred_split = model.predict(X_test_split)\n",
    "rmse = sqrt(mean_squared_error(y_test_split, y_pred_split))\n",
    "print(f\"Model RMSE: {rmse}\")\n",
    "X_pred = X_pred.apply(pd.to_numeric, errors='coerce')\n",
    "\n",
    "\n",
    "\n",
    "if not X_pred.empty:\n",
    "    predicted_biot = model.predict(X_pred)\n",
    "    data.loc[data[pred_variable].isnull(), pred_variable] = predicted_biot\n",
    "\n",
    "feature_importances = pd.DataFrame(\n",
    "    {\"Feature\": X.columns, \"Importance\": model.feature_importances_}\n",
    ")\n",
    "feature_importances.to_excel(f\"CSVs/ML_Outputs/feature_importances_{pred_variable}.xlsx\", index=False)\n",
    "\n",
    "\n",
    "# Save the updated dataset to a new file\n",
    "data.to_excel(f\"CSVs/ML_Outputs/ML_predicted_{pred_variable}.xlsx\", index=False)\n",
    "\n",
    "\n"
   ]
  },
  {
   "cell_type": "code",
   "execution_count": 4,
   "metadata": {},
   "outputs": [
    {
     "name": "stdout",
     "output_type": "stream",
     "text": [
      "Model RMSE: 2.5015153836998514\n"
     ]
    }
   ],
   "source": [
    "drop_columns=['moment_max']\n",
    "pred_variable = 'moment_max'\n",
    "X = data.drop(columns=drop_columns)\n",
    "y = data[pred_variable]\n",
    "\n",
    "X_train = X[y.notnull()]\n",
    "y_train = y[y.notnull()]\n",
    "\n",
    "X_pred = X[y.isnull()]\n",
    "\n",
    "X_train_split, X_test_split, y_train_split, y_test_split = train_test_split(X_train, y_train, test_size=0.2, random_state=42)\n",
    "\n",
    "model = RandomForestRegressor(n_estimators=100, random_state=42)\n",
    "\n",
    "model.fit(X_train_split, y_train_split)\n",
    "\n",
    "y_pred_split = model.predict(X_test_split)\n",
    "rmse = sqrt(mean_squared_error(y_test_split, y_pred_split))\n",
    "print(f\"Model RMSE: {rmse}\")\n",
    "X_pred = X_pred.apply(pd.to_numeric, errors='coerce')\n",
    "\n",
    "\n",
    "if not X_pred.empty:\n",
    "    predicted_var = model.predict(X_pred)\n",
    "    data.loc[data[pred_variable].isnull(), pred_variable] = predicted_var\n",
    "\n",
    "feature_importances = pd.DataFrame(\n",
    "    {\"Feature\": X.columns, \"Importance\": model.feature_importances_}\n",
    ")\n",
    "feature_importances.to_excel(f\"CSVs/ML_Outputs/feature_importances_{pred_variable}.xlsx\", index=False)\n",
    "# Save the updated dataset to a new file\n",
    "data.to_excel(f\"CSVs/ML_Outputs/ML_predicted_{pred_variable}.xlsx\", index=False)"
   ]
  },
  {
   "cell_type": "code",
   "execution_count": 5,
   "metadata": {},
   "outputs": [
    {
     "name": "stdout",
     "output_type": "stream",
     "text": [
      "Model RMSE for rock_biot_min: 0.04641385386699611\n",
      "Model RMSE for rock_biot_max: 0.06390033010747108\n"
     ]
    }
   ],
   "source": [
    "### Predicting together\n",
    "X = data.drop(columns=['rock_biot_min', 'rock_biot_max'])\n",
    "y = data[['rock_biot_min', 'rock_biot_max']]\n",
    "\n",
    "X = X.apply(pd.to_numeric, errors='coerce') \n",
    "y = y.apply(pd.to_numeric, errors='coerce') \n",
    "\n",
    "X_train = X[y.notnull().any(axis=1)]  \n",
    "y_train = y[y.notnull().any(axis=1)]\n",
    "\n",
    "X_pred = X[y.isnull().any(axis=1)]  \n",
    "\n",
    "\n",
    "X_train_split, X_test_split, y_train_split, y_test_split = train_test_split(X_train, y_train, test_size=0.2, random_state=42)\n",
    "\n",
    "\n",
    "model = RandomForestRegressor(n_estimators=100, random_state=42)\n",
    "\n",
    "\n",
    "model.fit(X_train_split, y_train_split)\n",
    "\n",
    "\n",
    "y_pred_split = model.predict(X_test_split)\n",
    "\n",
    "\n",
    "rmse_min = sqrt(mean_squared_error(y_test_split['rock_biot_min'], y_pred_split[:, 0]))\n",
    "rmse_max = sqrt(mean_squared_error(y_test_split['rock_biot_max'], y_pred_split[:, 1]))\n",
    "\n",
    "print(f\"Model RMSE for rock_biot_min: {rmse_min}\")\n",
    "print(f\"Model RMSE for rock_biot_max: {rmse_max}\")\n",
    "\n",
    "\n",
    "X_pred = X_pred.apply(pd.to_numeric, errors='coerce')\n",
    "\n",
    "if not X_pred.empty:\n",
    "    predicted_biot = model.predict(X_pred)\n",
    "    \n",
    "    data.loc[data[\"rock_biot_min\"].isnull(), \"rock_biot_min\"] = predicted_biot[:, 0]\n",
    "    data.loc[data[\"rock_biot_max\"].isnull(), \"rock_biot_max\"] = predicted_biot[:, 1]\n",
    "\n",
    "# Extract feature importances\n",
    "feature_importances = pd.DataFrame(\n",
    "    {\"Feature\": X.columns, \"Importance\": model.feature_importances_}\n",
    ")\n",
    "\n",
    "\n",
    "feature_importances.to_excel(\"CSVs/ML_Outputs/feature_importances_biot.xlsx\", index=False)\n",
    "\n",
    "\n",
    "data.to_excel(\"CSVs/ML_Outputs/ML_predicted_biot.xlsx\", index=False)\n"
   ]
  },
  {
   "cell_type": "code",
   "execution_count": null,
   "metadata": {},
   "outputs": [],
   "source": []
  }
 ],
 "metadata": {
  "kernelspec": {
   "display_name": "Python 3",
   "language": "python",
   "name": "python3"
  },
  "language_info": {
   "codemirror_mode": {
    "name": "ipython",
    "version": 3
   },
   "file_extension": ".py",
   "mimetype": "text/x-python",
   "name": "python",
   "nbconvert_exporter": "python",
   "pygments_lexer": "ipython3",
   "version": "3.11.9"
  }
 },
 "nbformat": 4,
 "nbformat_minor": 2
}
